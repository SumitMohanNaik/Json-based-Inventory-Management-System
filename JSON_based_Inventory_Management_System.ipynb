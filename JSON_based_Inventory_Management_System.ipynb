{
  "nbformat": 4,
  "nbformat_minor": 0,
  "metadata": {
    "colab": {
      "name": "JSON based Inventory Management System.ipynb",
      "provenance": [],
      "collapsed_sections": []
    },
    "kernelspec": {
      "name": "python3",
      "display_name": "Python 3"
    },
    "language_info": {
      "name": "python"
    }
  },
  "cells": [
    {
      "cell_type": "code",
      "metadata": {
        "id": "KLe0mrnWipbi"
      },
      "source": [
        "record = {\n",
        "    1 : { \"item\": \"Colgate Toothpaste\", \"price\": 30, \"Stocked on\": \"03-08-2021\", \"Availability\": True, \"Discount\": 10 },\n",
        "    2 : { \"item\": \"Moong Dal\", \"price\": 90, \"Stocked on\": \"06-07-2021\",\"Availability\": True , \"Discount\": 0 },\n",
        "    3 : { \"item\": \"Burger Bread\", \"price\": 20, \"Stocked on\": \"01-09-2021\", \"Availability\": True, \"Discount\": 20 },\n",
        "    4 : { \"item\": \"Milk\", \"price\" :48, \"Stocked on\": \"03-09-2021\", \"Availability\": False, \"Discount\": 18 },\n",
        "    5 : { \"item\": \"White Bread\", \"price\": 25, \"Stocked on\": \"29-08-2021\", \"Availability\": True, \"Discount\": 15 },\n",
        "    6 : { \"item\": \"Yipee\", \"price\": 12, \"Stocked on\": \"20-08-2021\", \"Availability\": True, \"Discount\": 0 },\n",
        "    7 : { \"item\": \"Amul Butter\", \"price\": 50, \"Stocked on\": \"31-08-2021\", \"Availability\": True, \"Discount\": 10 },\n",
        "    8 : { \"item\": \"Perfumes\", \"price\": 250, \"Stocked on\": \"15-08-2021\", \"Availability\": True, \"Discount\": 18 },\n",
        "    9 : { \"item\": \"Toilet Cleaner\", \"price\": 99, \"Stocked on\": \"05-08-2021\", \"Availability\": True, \"Discount\": 33 },\n",
        "    10 : { \"item\": \"Pickles\", \"price\": 20, \"Stocked on\": \"24-08-2021\", \"Availability\": True, \"Discount\": 0 },\n",
        "    11 : { \"item\": \"Brown Bread\", \"price\": 60, \"Stocked on\": \"30-08-2021\", \"Availability\": True, \"Discount\": 0 },\n",
        "    12 : { \"item\": \"Pizza Base\", \"price\": 50, \"Stocked on\": \"02-09-2021\", \"Availability\": True, \"Discount\": 20 },\n",
        "    13 : { \"item\": \"Wet wipes\", \"price\": 185, \"Stocked on\": \"20-08-2021\", \"Availability\": False, \"Discount\": 20 },\n",
        "    14 : { \"item\": \"Black Pepper\", \"price\": 80, \"Stocked on\": \"31-08-2021\", \"Availability\": True, \"Discount\": 0 },\n",
        "    15 : { \"item\": \"Chocolate Cookies\", \"price\": 30, \"Stocked on\": \"17-08-2021\", \"Availability\": True, \"Discount\": 5 },\n",
        "    16 : { \"item\": \"Baby Shampoo\", \"price\": 58, \"Stocked on\": \"07-08-2021\", \"Availability\": True, \"Discount\": 15 },\n",
        "    17 : { \"item\": \"Tooth Paste\", \"price\": 55, \"Stocked on\": \"05-06-2021\", \"Availability\": True, \"Discount\": 23 },\n",
        "    18 : { \"item\": \"Dinner Set\", \"price\": 600, \"Stocked on\": \"24-05-2021\", \"Availability\": True, \"Discount\": 30 },\n",
        "    19 : { \"item\": \"Bodycream\", \"price\": 320, \"Stocked on\": \"06-08-2021\", \"Availability\": True, \"Discount\": 15 },\n",
        "    20 : { \"item\": \"Cheese 1kg\", \"price\": 680, \"Stocked on\": \"08-04-2021\", \"Availability\": False, \"Discount\": 35 },\n",
        "    21 : { \"item\": \"Cheese 90 gm\", \"price\": 60, \"Stocked on\": \"01-09-2021\", \"Availability\": True, \"Discount\": 0 },\n",
        "    22 : { \"item\": \"Cakes\", \"price\": 550, \"Stocked on\": \"29-08-2021\", \"Availability\": True, \"Discount\": 20 },\n",
        "    23 : { \"item\": \"Chips\", \"price\": 20, \"Stocked on\": \"27-08-2021\", \"Availability\": True, \"Discount\": 0 },\n",
        "    24 : { \"item\": \"Coffee Powder\", \"price\": 56, \"Stocked on\": \"24-07-2021\", \"Availability\": True, \"Discount\": 18 },\n",
        "    25 : { \"item\": \"Shaving Razor\", \"price\": 30, \"Stocked on\": \"24-02-2021\", \"Availability\": True, \"Discount\": 0 },\n",
        "    26 : { \"item\": \"Choco Spreads\", \"price\": 100, \"Stocked on\": \"25-08-2021\", \"Availability\": True, \"Discount\": 0 },\n",
        "    27 : { \"item\": \"Surf Excel\", \"price\": 360, \"Stocked on\": \"24-07-2021\", \"Availability\": True, \"Discount\": 0 },\n",
        "    28 : { \"item\": \"Detergent\", \"price\": 89, \"Stocked on\": \"20-08-2021\", \"Availability\": True, \"Discount\": 13 },\n",
        "    29 : { \"item\": \"Dairy Milk Silk\", \"price\": 49, \"Stocked on\": \"30-07-2021\", \"Availability\": True, \"Discount\": 15 },\n",
        "    30 : { \"item\": \"Mixer Grinder\", \"price\": 2500, \"Stocked on\": \"24-02-2021\", \"Availability\": True, \"Discount\": 20 }\n",
        "}"
      ],
      "execution_count": 26,
      "outputs": []
    },
    {
      "cell_type": "code",
      "metadata": {
        "colab": {
          "base_uri": "https://localhost:8080/"
        },
        "id": "QeBKKlQElMz9",
        "outputId": "60c0c6f4-c4b3-480e-c77c-352e2b49ac4f"
      },
      "source": [
        "for i in record:\n",
        "  print(i,\" = \",record[i])"
      ],
      "execution_count": 27,
      "outputs": [
        {
          "output_type": "stream",
          "name": "stdout",
          "text": [
            "1  =  {'item': 'Colgate Toothpaste', 'price': 30, 'Stocked on': '03-08-2021', 'Availability': True, 'Discount': 10}\n",
            "2  =  {'item': 'Moong Dal', 'price': 90, 'Stocked on': '06-07-2021', 'Availability': True, 'Discount': 0}\n",
            "3  =  {'item': 'Burger Bread', 'price': 20, 'Stocked on': '01-09-2021', 'Availability': True, 'Discount': 20}\n",
            "4  =  {'item': 'Milk', 'price': 48, 'Stocked on': '03-09-2021', 'Availability': False, 'Discount': 18}\n",
            "5  =  {'item': 'White Bread', 'price': 25, 'Stocked on': '29-08-2021', 'Availability': True, 'Discount': 15}\n",
            "6  =  {'item': 'Yipee', 'price': 12, 'Stocked on': '20-08-2021', 'Availability': True, 'Discount': 0}\n",
            "7  =  {'item': 'Amul Butter', 'price': 50, 'Stocked on': '31-08-2021', 'Availability': True, 'Discount': 10}\n",
            "8  =  {'item': 'Perfumes', 'price': 250, 'Stocked on': '15-08-2021', 'Availability': True, 'Discount': 18}\n",
            "9  =  {'item': 'Toilet Cleaner', 'price': 99, 'Stocked on': '05-08-2021', 'Availability': True, 'Discount': 33}\n",
            "10  =  {'item': 'Pickles', 'price': 20, 'Stocked on': '24-08-2021', 'Availability': True, 'Discount': 0}\n",
            "11  =  {'item': 'Brown Bread', 'price': 60, 'Stocked on': '30-08-2021', 'Availability': True, 'Discount': 0}\n",
            "12  =  {'item': 'Pizza Base', 'price': 50, 'Stocked on': '02-09-2021', 'Availability': True, 'Discount': 20}\n",
            "13  =  {'item': 'Wet wipes', 'price': 185, 'Stocked on': '20-08-2021', 'Availability': False, 'Discount': 20}\n",
            "14  =  {'item': 'Black Pepper', 'price': 80, 'Stocked on': '31-08-2021', 'Availability': True, 'Discount': 0}\n",
            "15  =  {'item': 'Chocolate Cookies', 'price': 30, 'Stocked on': '17-08-2021', 'Availability': True, 'Discount': 5}\n",
            "16  =  {'item': 'Baby Shampoo', 'price': 58, 'Stocked on': '07-08-2021', 'Availability': True, 'Discount': 15}\n",
            "17  =  {'item': 'Tooth Paste', 'price': 55, 'Stocked on': '05-06-2021', 'Availability': True, 'Discount': 23}\n",
            "18  =  {'item': 'Dinner Set', 'price': 600, 'Stocked on': '24-05-2021', 'Availability': True, 'Discount': 30}\n",
            "19  =  {'item': 'Bodycream', 'price': 320, 'Stocked on': '06-08-2021', 'Availability': True, 'Discount': 15}\n",
            "20  =  {'item': 'Cheese 1kg', 'price': 680, 'Stocked on': '08-04-2021', 'Availability': False, 'Discount': 35}\n",
            "21  =  {'item': 'Cheese 90 gm', 'price': 60, 'Stocked on': '01-09-2021', 'Availability': True, 'Discount': 0}\n",
            "22  =  {'item': 'Cakes', 'price': 550, 'Stocked on': '29-08-2021', 'Availability': True, 'Discount': 20}\n",
            "23  =  {'item': 'Chips', 'price': 20, 'Stocked on': '27-08-2021', 'Availability': True, 'Discount': 0}\n",
            "24  =  {'item': 'Coffee Powder', 'price': 56, 'Stocked on': '24-07-2021', 'Availability': True, 'Discount': 18}\n",
            "25  =  {'item': 'Shaving Razor', 'price': 30, 'Stocked on': '24-02-2021', 'Availability': True, 'Discount': 0}\n",
            "26  =  {'item': 'Choco Spreads', 'price': 100, 'Stocked on': '25-08-2021', 'Availability': True, 'Discount': 0}\n",
            "27  =  {'item': 'Surf Excel', 'price': 360, 'Stocked on': '24-07-2021', 'Availability': True, 'Discount': 0}\n",
            "28  =  {'item': 'Detergent', 'price': 89, 'Stocked on': '20-08-2021', 'Availability': True, 'Discount': 13}\n",
            "29  =  {'item': 'Dairy Milk Silk', 'price': 49, 'Stocked on': '30-07-2021', 'Availability': True, 'Discount': 15}\n",
            "30  =  {'item': 'Mixer Grinder', 'price': 2500, 'Stocked on': '24-02-2021', 'Availability': True, 'Discount': 20}\n"
          ]
        }
      ]
    },
    {
      "cell_type": "code",
      "metadata": {
        "id": "IEZQD6F6lk1V"
      },
      "source": [
        "import json"
      ],
      "execution_count": 28,
      "outputs": []
    },
    {
      "cell_type": "code",
      "metadata": {
        "id": "BqksQrAFlmhF"
      },
      "source": [
        "js = json.dumps(record)"
      ],
      "execution_count": 29,
      "outputs": []
    },
    {
      "cell_type": "code",
      "metadata": {
        "colab": {
          "base_uri": "https://localhost:8080/",
          "height": 120
        },
        "id": "knMNeiAOlmZk",
        "outputId": "c4efd7e9-f3d2-4fd3-849f-fa17d73fb1ad"
      },
      "source": [
        "js"
      ],
      "execution_count": 30,
      "outputs": [
        {
          "output_type": "execute_result",
          "data": {
            "application/vnd.google.colaboratory.intrinsic+json": {
              "type": "string"
            },
            "text/plain": [
              "'{\"1\": {\"item\": \"Colgate Toothpaste\", \"price\": 30, \"Stocked on\": \"03-08-2021\", \"Availability\": true, \"Discount\": 10}, \"2\": {\"item\": \"Moong Dal\", \"price\": 90, \"Stocked on\": \"06-07-2021\", \"Availability\": true, \"Discount\": 0}, \"3\": {\"item\": \"Burger Bread\", \"price\": 20, \"Stocked on\": \"01-09-2021\", \"Availability\": true, \"Discount\": 20}, \"4\": {\"item\": \"Milk\", \"price\": 48, \"Stocked on\": \"03-09-2021\", \"Availability\": false, \"Discount\": 18}, \"5\": {\"item\": \"White Bread\", \"price\": 25, \"Stocked on\": \"29-08-2021\", \"Availability\": true, \"Discount\": 15}, \"6\": {\"item\": \"Yipee\", \"price\": 12, \"Stocked on\": \"20-08-2021\", \"Availability\": true, \"Discount\": 0}, \"7\": {\"item\": \"Amul Butter\", \"price\": 50, \"Stocked on\": \"31-08-2021\", \"Availability\": true, \"Discount\": 10}, \"8\": {\"item\": \"Perfumes\", \"price\": 250, \"Stocked on\": \"15-08-2021\", \"Availability\": true, \"Discount\": 18}, \"9\": {\"item\": \"Toilet Cleaner\", \"price\": 99, \"Stocked on\": \"05-08-2021\", \"Availability\": true, \"Discount\": 33}, \"10\": {\"item\": \"Pickles\", \"price\": 20, \"Stocked on\": \"24-08-2021\", \"Availability\": true, \"Discount\": 0}, \"11\": {\"item\": \"Brown Bread\", \"price\": 60, \"Stocked on\": \"30-08-2021\", \"Availability\": true, \"Discount\": 0}, \"12\": {\"item\": \"Pizza Base\", \"price\": 50, \"Stocked on\": \"02-09-2021\", \"Availability\": true, \"Discount\": 20}, \"13\": {\"item\": \"Wet wipes\", \"price\": 185, \"Stocked on\": \"20-08-2021\", \"Availability\": false, \"Discount\": 20}, \"14\": {\"item\": \"Black Pepper\", \"price\": 80, \"Stocked on\": \"31-08-2021\", \"Availability\": true, \"Discount\": 0}, \"15\": {\"item\": \"Chocolate Cookies\", \"price\": 30, \"Stocked on\": \"17-08-2021\", \"Availability\": true, \"Discount\": 5}, \"16\": {\"item\": \"Baby Shampoo\", \"price\": 58, \"Stocked on\": \"07-08-2021\", \"Availability\": true, \"Discount\": 15}, \"17\": {\"item\": \"Tooth Paste\", \"price\": 55, \"Stocked on\": \"05-06-2021\", \"Availability\": true, \"Discount\": 23}, \"18\": {\"item\": \"Dinner Set\", \"price\": 600, \"Stocked on\": \"24-05-2021\", \"Availability\": true, \"Discount\": 30}, \"19\": {\"item\": \"Bodycream\", \"price\": 320, \"Stocked on\": \"06-08-2021\", \"Availability\": true, \"Discount\": 15}, \"20\": {\"item\": \"Cheese 1kg\", \"price\": 680, \"Stocked on\": \"08-04-2021\", \"Availability\": false, \"Discount\": 35}, \"21\": {\"item\": \"Cheese 90 gm\", \"price\": 60, \"Stocked on\": \"01-09-2021\", \"Availability\": true, \"Discount\": 0}, \"22\": {\"item\": \"Cakes\", \"price\": 550, \"Stocked on\": \"29-08-2021\", \"Availability\": true, \"Discount\": 20}, \"23\": {\"item\": \"Chips\", \"price\": 20, \"Stocked on\": \"27-08-2021\", \"Availability\": true, \"Discount\": 0}, \"24\": {\"item\": \"Coffee Powder\", \"price\": 56, \"Stocked on\": \"24-07-2021\", \"Availability\": true, \"Discount\": 18}, \"25\": {\"item\": \"Shaving Razor\", \"price\": 30, \"Stocked on\": \"24-02-2021\", \"Availability\": true, \"Discount\": 0}, \"26\": {\"item\": \"Choco Spreads\", \"price\": 100, \"Stocked on\": \"25-08-2021\", \"Availability\": true, \"Discount\": 0}, \"27\": {\"item\": \"Surf Excel\", \"price\": 360, \"Stocked on\": \"24-07-2021\", \"Availability\": true, \"Discount\": 0}, \"28\": {\"item\": \"Detergent\", \"price\": 89, \"Stocked on\": \"20-08-2021\", \"Availability\": true, \"Discount\": 13}, \"29\": {\"item\": \"Dairy Milk Silk\", \"price\": 49, \"Stocked on\": \"30-07-2021\", \"Availability\": true, \"Discount\": 15}, \"30\": {\"item\": \"Mixer Grinder\", \"price\": 2500, \"Stocked on\": \"24-02-2021\", \"Availability\": true, \"Discount\": 20}}'"
            ]
          },
          "metadata": {},
          "execution_count": 30
        }
      ]
    },
    {
      "cell_type": "code",
      "metadata": {
        "id": "tOmlCGtvllmJ"
      },
      "source": [
        "daily_count = 0\n",
        "fd = open(\"record.json\",\"w\")\n",
        "fd.write(js)\n",
        "fd.close()"
      ],
      "execution_count": 31,
      "outputs": []
    },
    {
      "cell_type": "code",
      "metadata": {
        "id": "Bje3w-wDllN7"
      },
      "source": [
        "fd = open(\"record.json\",\"r\")\n",
        "txt = fd.read()\n",
        "fd.close()"
      ],
      "execution_count": 32,
      "outputs": []
    },
    {
      "cell_type": "code",
      "metadata": {
        "colab": {
          "base_uri": "https://localhost:8080/",
          "height": 120
        },
        "id": "Frxi906Pl7Oa",
        "outputId": "c6893544-cd18-4300-a006-a49552d378cb"
      },
      "source": [
        "txt"
      ],
      "execution_count": 33,
      "outputs": [
        {
          "output_type": "execute_result",
          "data": {
            "application/vnd.google.colaboratory.intrinsic+json": {
              "type": "string"
            },
            "text/plain": [
              "'{\"1\": {\"item\": \"Colgate Toothpaste\", \"price\": 30, \"Stocked on\": \"03-08-2021\", \"Availability\": true, \"Discount\": 10}, \"2\": {\"item\": \"Moong Dal\", \"price\": 90, \"Stocked on\": \"06-07-2021\", \"Availability\": true, \"Discount\": 0}, \"3\": {\"item\": \"Burger Bread\", \"price\": 20, \"Stocked on\": \"01-09-2021\", \"Availability\": true, \"Discount\": 20}, \"4\": {\"item\": \"Milk\", \"price\": 48, \"Stocked on\": \"03-09-2021\", \"Availability\": false, \"Discount\": 18}, \"5\": {\"item\": \"White Bread\", \"price\": 25, \"Stocked on\": \"29-08-2021\", \"Availability\": true, \"Discount\": 15}, \"6\": {\"item\": \"Yipee\", \"price\": 12, \"Stocked on\": \"20-08-2021\", \"Availability\": true, \"Discount\": 0}, \"7\": {\"item\": \"Amul Butter\", \"price\": 50, \"Stocked on\": \"31-08-2021\", \"Availability\": true, \"Discount\": 10}, \"8\": {\"item\": \"Perfumes\", \"price\": 250, \"Stocked on\": \"15-08-2021\", \"Availability\": true, \"Discount\": 18}, \"9\": {\"item\": \"Toilet Cleaner\", \"price\": 99, \"Stocked on\": \"05-08-2021\", \"Availability\": true, \"Discount\": 33}, \"10\": {\"item\": \"Pickles\", \"price\": 20, \"Stocked on\": \"24-08-2021\", \"Availability\": true, \"Discount\": 0}, \"11\": {\"item\": \"Brown Bread\", \"price\": 60, \"Stocked on\": \"30-08-2021\", \"Availability\": true, \"Discount\": 0}, \"12\": {\"item\": \"Pizza Base\", \"price\": 50, \"Stocked on\": \"02-09-2021\", \"Availability\": true, \"Discount\": 20}, \"13\": {\"item\": \"Wet wipes\", \"price\": 185, \"Stocked on\": \"20-08-2021\", \"Availability\": false, \"Discount\": 20}, \"14\": {\"item\": \"Black Pepper\", \"price\": 80, \"Stocked on\": \"31-08-2021\", \"Availability\": true, \"Discount\": 0}, \"15\": {\"item\": \"Chocolate Cookies\", \"price\": 30, \"Stocked on\": \"17-08-2021\", \"Availability\": true, \"Discount\": 5}, \"16\": {\"item\": \"Baby Shampoo\", \"price\": 58, \"Stocked on\": \"07-08-2021\", \"Availability\": true, \"Discount\": 15}, \"17\": {\"item\": \"Tooth Paste\", \"price\": 55, \"Stocked on\": \"05-06-2021\", \"Availability\": true, \"Discount\": 23}, \"18\": {\"item\": \"Dinner Set\", \"price\": 600, \"Stocked on\": \"24-05-2021\", \"Availability\": true, \"Discount\": 30}, \"19\": {\"item\": \"Bodycream\", \"price\": 320, \"Stocked on\": \"06-08-2021\", \"Availability\": true, \"Discount\": 15}, \"20\": {\"item\": \"Cheese 1kg\", \"price\": 680, \"Stocked on\": \"08-04-2021\", \"Availability\": false, \"Discount\": 35}, \"21\": {\"item\": \"Cheese 90 gm\", \"price\": 60, \"Stocked on\": \"01-09-2021\", \"Availability\": true, \"Discount\": 0}, \"22\": {\"item\": \"Cakes\", \"price\": 550, \"Stocked on\": \"29-08-2021\", \"Availability\": true, \"Discount\": 20}, \"23\": {\"item\": \"Chips\", \"price\": 20, \"Stocked on\": \"27-08-2021\", \"Availability\": true, \"Discount\": 0}, \"24\": {\"item\": \"Coffee Powder\", \"price\": 56, \"Stocked on\": \"24-07-2021\", \"Availability\": true, \"Discount\": 18}, \"25\": {\"item\": \"Shaving Razor\", \"price\": 30, \"Stocked on\": \"24-02-2021\", \"Availability\": true, \"Discount\": 0}, \"26\": {\"item\": \"Choco Spreads\", \"price\": 100, \"Stocked on\": \"25-08-2021\", \"Availability\": true, \"Discount\": 0}, \"27\": {\"item\": \"Surf Excel\", \"price\": 360, \"Stocked on\": \"24-07-2021\", \"Availability\": true, \"Discount\": 0}, \"28\": {\"item\": \"Detergent\", \"price\": 89, \"Stocked on\": \"20-08-2021\", \"Availability\": true, \"Discount\": 13}, \"29\": {\"item\": \"Dairy Milk Silk\", \"price\": 49, \"Stocked on\": \"30-07-2021\", \"Availability\": true, \"Discount\": 15}, \"30\": {\"item\": \"Mixer Grinder\", \"price\": 2500, \"Stocked on\": \"24-02-2021\", \"Availability\": true, \"Discount\": 20}}'"
            ]
          },
          "metadata": {},
          "execution_count": 33
        }
      ]
    },
    {
      "cell_type": "markdown",
      "metadata": {
        "id": "zNqps0LamA-t"
      },
      "source": [
        "Conversion of json to text based Dictionary"
      ]
    },
    {
      "cell_type": "code",
      "metadata": {
        "id": "u7BzqZNil9ly"
      },
      "source": [
        "js_to_dict = json.loads(txt)"
      ],
      "execution_count": 34,
      "outputs": []
    },
    {
      "cell_type": "code",
      "metadata": {
        "colab": {
          "base_uri": "https://localhost:8080/"
        },
        "id": "2BqxvZtjmKJY",
        "outputId": "4a364045-6c21-4e48-b4cb-9437b7da5a67"
      },
      "source": [
        "js_to_dict"
      ],
      "execution_count": 35,
      "outputs": [
        {
          "output_type": "execute_result",
          "data": {
            "text/plain": [
              "{'1': {'Availability': True,\n",
              "  'Discount': 10,\n",
              "  'Stocked on': '03-08-2021',\n",
              "  'item': 'Colgate Toothpaste',\n",
              "  'price': 30},\n",
              " '10': {'Availability': True,\n",
              "  'Discount': 0,\n",
              "  'Stocked on': '24-08-2021',\n",
              "  'item': 'Pickles',\n",
              "  'price': 20},\n",
              " '11': {'Availability': True,\n",
              "  'Discount': 0,\n",
              "  'Stocked on': '30-08-2021',\n",
              "  'item': 'Brown Bread',\n",
              "  'price': 60},\n",
              " '12': {'Availability': True,\n",
              "  'Discount': 20,\n",
              "  'Stocked on': '02-09-2021',\n",
              "  'item': 'Pizza Base',\n",
              "  'price': 50},\n",
              " '13': {'Availability': False,\n",
              "  'Discount': 20,\n",
              "  'Stocked on': '20-08-2021',\n",
              "  'item': 'Wet wipes',\n",
              "  'price': 185},\n",
              " '14': {'Availability': True,\n",
              "  'Discount': 0,\n",
              "  'Stocked on': '31-08-2021',\n",
              "  'item': 'Black Pepper',\n",
              "  'price': 80},\n",
              " '15': {'Availability': True,\n",
              "  'Discount': 5,\n",
              "  'Stocked on': '17-08-2021',\n",
              "  'item': 'Chocolate Cookies',\n",
              "  'price': 30},\n",
              " '16': {'Availability': True,\n",
              "  'Discount': 15,\n",
              "  'Stocked on': '07-08-2021',\n",
              "  'item': 'Baby Shampoo',\n",
              "  'price': 58},\n",
              " '17': {'Availability': True,\n",
              "  'Discount': 23,\n",
              "  'Stocked on': '05-06-2021',\n",
              "  'item': 'Tooth Paste',\n",
              "  'price': 55},\n",
              " '18': {'Availability': True,\n",
              "  'Discount': 30,\n",
              "  'Stocked on': '24-05-2021',\n",
              "  'item': 'Dinner Set',\n",
              "  'price': 600},\n",
              " '19': {'Availability': True,\n",
              "  'Discount': 15,\n",
              "  'Stocked on': '06-08-2021',\n",
              "  'item': 'Bodycream',\n",
              "  'price': 320},\n",
              " '2': {'Availability': True,\n",
              "  'Discount': 0,\n",
              "  'Stocked on': '06-07-2021',\n",
              "  'item': 'Moong Dal',\n",
              "  'price': 90},\n",
              " '20': {'Availability': False,\n",
              "  'Discount': 35,\n",
              "  'Stocked on': '08-04-2021',\n",
              "  'item': 'Cheese 1kg',\n",
              "  'price': 680},\n",
              " '21': {'Availability': True,\n",
              "  'Discount': 0,\n",
              "  'Stocked on': '01-09-2021',\n",
              "  'item': 'Cheese 90 gm',\n",
              "  'price': 60},\n",
              " '22': {'Availability': True,\n",
              "  'Discount': 20,\n",
              "  'Stocked on': '29-08-2021',\n",
              "  'item': 'Cakes',\n",
              "  'price': 550},\n",
              " '23': {'Availability': True,\n",
              "  'Discount': 0,\n",
              "  'Stocked on': '27-08-2021',\n",
              "  'item': 'Chips',\n",
              "  'price': 20},\n",
              " '24': {'Availability': True,\n",
              "  'Discount': 18,\n",
              "  'Stocked on': '24-07-2021',\n",
              "  'item': 'Coffee Powder',\n",
              "  'price': 56},\n",
              " '25': {'Availability': True,\n",
              "  'Discount': 0,\n",
              "  'Stocked on': '24-02-2021',\n",
              "  'item': 'Shaving Razor',\n",
              "  'price': 30},\n",
              " '26': {'Availability': True,\n",
              "  'Discount': 0,\n",
              "  'Stocked on': '25-08-2021',\n",
              "  'item': 'Choco Spreads',\n",
              "  'price': 100},\n",
              " '27': {'Availability': True,\n",
              "  'Discount': 0,\n",
              "  'Stocked on': '24-07-2021',\n",
              "  'item': 'Surf Excel',\n",
              "  'price': 360},\n",
              " '28': {'Availability': True,\n",
              "  'Discount': 13,\n",
              "  'Stocked on': '20-08-2021',\n",
              "  'item': 'Detergent',\n",
              "  'price': 89},\n",
              " '29': {'Availability': True,\n",
              "  'Discount': 15,\n",
              "  'Stocked on': '30-07-2021',\n",
              "  'item': 'Dairy Milk Silk',\n",
              "  'price': 49},\n",
              " '3': {'Availability': True,\n",
              "  'Discount': 20,\n",
              "  'Stocked on': '01-09-2021',\n",
              "  'item': 'Burger Bread',\n",
              "  'price': 20},\n",
              " '30': {'Availability': True,\n",
              "  'Discount': 20,\n",
              "  'Stocked on': '24-02-2021',\n",
              "  'item': 'Mixer Grinder',\n",
              "  'price': 2500},\n",
              " '4': {'Availability': False,\n",
              "  'Discount': 18,\n",
              "  'Stocked on': '03-09-2021',\n",
              "  'item': 'Milk',\n",
              "  'price': 48},\n",
              " '5': {'Availability': True,\n",
              "  'Discount': 15,\n",
              "  'Stocked on': '29-08-2021',\n",
              "  'item': 'White Bread',\n",
              "  'price': 25},\n",
              " '6': {'Availability': True,\n",
              "  'Discount': 0,\n",
              "  'Stocked on': '20-08-2021',\n",
              "  'item': 'Yipee',\n",
              "  'price': 12},\n",
              " '7': {'Availability': True,\n",
              "  'Discount': 10,\n",
              "  'Stocked on': '31-08-2021',\n",
              "  'item': 'Amul Butter',\n",
              "  'price': 50},\n",
              " '8': {'Availability': True,\n",
              "  'Discount': 18,\n",
              "  'Stocked on': '15-08-2021',\n",
              "  'item': 'Perfumes',\n",
              "  'price': 250},\n",
              " '9': {'Availability': True,\n",
              "  'Discount': 33,\n",
              "  'Stocked on': '05-08-2021',\n",
              "  'item': 'Toilet Cleaner',\n",
              "  'price': 99}}"
            ]
          },
          "metadata": {},
          "execution_count": 35
        }
      ]
    },
    {
      "cell_type": "code",
      "metadata": {
        "colab": {
          "base_uri": "https://localhost:8080/"
        },
        "id": "HK2BT9TFmSUJ",
        "outputId": "611c91b1-86b6-4ea6-87cb-5b1c7c7a49ec"
      },
      "source": [
        "type(js_to_dict)"
      ],
      "execution_count": 11,
      "outputs": [
        {
          "output_type": "execute_result",
          "data": {
            "text/plain": [
              "dict"
            ]
          },
          "metadata": {},
          "execution_count": 11
        }
      ]
    },
    {
      "cell_type": "code",
      "metadata": {
        "colab": {
          "base_uri": "https://localhost:8080/"
        },
        "id": "yek2sRyhmSJa",
        "outputId": "8bbd9e7e-ab5c-461d-9c18-bf94ac499e34"
      },
      "source": [
        "print(\"Welcome to SUMIT SHOPPING MART\")\n",
        "print(\"Your One Stop Destination for all your daily needs\")"
      ],
      "execution_count": 36,
      "outputs": [
        {
          "output_type": "stream",
          "name": "stdout",
          "text": [
            "Welcome to SUMIT SHOPPING MART\n",
            "Your One Stop Destination for all your daily needs\n"
          ]
        }
      ]
    },
    {
      "cell_type": "code",
      "metadata": {
        "colab": {
          "base_uri": "https://localhost:8080/"
        },
        "id": "x0ywlj09mSAU",
        "outputId": "8da354a1-976e-4d66-acbf-b8b8295c330d"
      },
      "source": [
        "print(\"\\t||Unique ID\\t||\", \"Item Name\\t\\t\\t\", \"||\" ,\"Price\\t\", \"\\t\\t||Stocked On\", \"\\t\\t ||Availability\", \"\\t\\t ||Discount\")\n",
        "print('-*'*75)\n",
        "for i in record:\n",
        "  print(\"\\t||\", i, \"\\t\\t||\", record[i][\"item\"],(28-len(record[i][\"item\"]))*\" \", \"||\", record[i][\"price\"], (18-len(record[i][\"Stocked on\"]))*\" \",\"\\t\\t||\", record[i][\"Stocked on\"], \"\\t\\t\",\"||\", record[i][\"Availability\"], \"\\t\\t\", \"||\", record[i][\"Discount\"])"
      ],
      "execution_count": 37,
      "outputs": [
        {
          "output_type": "stream",
          "name": "stdout",
          "text": [
            "\t||Unique ID\t|| Item Name\t\t\t || Price\t \t\t||Stocked On \t\t ||Availability \t\t ||Discount\n",
            "-*-*-*-*-*-*-*-*-*-*-*-*-*-*-*-*-*-*-*-*-*-*-*-*-*-*-*-*-*-*-*-*-*-*-*-*-*-*-*-*-*-*-*-*-*-*-*-*-*-*-*-*-*-*-*-*-*-*-*-*-*-*-*-*-*-*-*-*-*-*-*-*-*-*-*\n",
            "\t|| 1 \t\t|| Colgate Toothpaste            || 30          \t\t|| 03-08-2021 \t\t || True \t\t || 10\n",
            "\t|| 2 \t\t|| Moong Dal                     || 90          \t\t|| 06-07-2021 \t\t || True \t\t || 0\n",
            "\t|| 3 \t\t|| Burger Bread                  || 20          \t\t|| 01-09-2021 \t\t || True \t\t || 20\n",
            "\t|| 4 \t\t|| Milk                          || 48          \t\t|| 03-09-2021 \t\t || False \t\t || 18\n",
            "\t|| 5 \t\t|| White Bread                   || 25          \t\t|| 29-08-2021 \t\t || True \t\t || 15\n",
            "\t|| 6 \t\t|| Yipee                         || 12          \t\t|| 20-08-2021 \t\t || True \t\t || 0\n",
            "\t|| 7 \t\t|| Amul Butter                   || 50          \t\t|| 31-08-2021 \t\t || True \t\t || 10\n",
            "\t|| 8 \t\t|| Perfumes                      || 250          \t\t|| 15-08-2021 \t\t || True \t\t || 18\n",
            "\t|| 9 \t\t|| Toilet Cleaner                || 99          \t\t|| 05-08-2021 \t\t || True \t\t || 33\n",
            "\t|| 10 \t\t|| Pickles                       || 20          \t\t|| 24-08-2021 \t\t || True \t\t || 0\n",
            "\t|| 11 \t\t|| Brown Bread                   || 60          \t\t|| 30-08-2021 \t\t || True \t\t || 0\n",
            "\t|| 12 \t\t|| Pizza Base                    || 50          \t\t|| 02-09-2021 \t\t || True \t\t || 20\n",
            "\t|| 13 \t\t|| Wet wipes                     || 185          \t\t|| 20-08-2021 \t\t || False \t\t || 20\n",
            "\t|| 14 \t\t|| Black Pepper                  || 80          \t\t|| 31-08-2021 \t\t || True \t\t || 0\n",
            "\t|| 15 \t\t|| Chocolate Cookies             || 30          \t\t|| 17-08-2021 \t\t || True \t\t || 5\n",
            "\t|| 16 \t\t|| Baby Shampoo                  || 58          \t\t|| 07-08-2021 \t\t || True \t\t || 15\n",
            "\t|| 17 \t\t|| Tooth Paste                   || 55          \t\t|| 05-06-2021 \t\t || True \t\t || 23\n",
            "\t|| 18 \t\t|| Dinner Set                    || 600          \t\t|| 24-05-2021 \t\t || True \t\t || 30\n",
            "\t|| 19 \t\t|| Bodycream                     || 320          \t\t|| 06-08-2021 \t\t || True \t\t || 15\n",
            "\t|| 20 \t\t|| Cheese 1kg                    || 680          \t\t|| 08-04-2021 \t\t || False \t\t || 35\n",
            "\t|| 21 \t\t|| Cheese 90 gm                  || 60          \t\t|| 01-09-2021 \t\t || True \t\t || 0\n",
            "\t|| 22 \t\t|| Cakes                         || 550          \t\t|| 29-08-2021 \t\t || True \t\t || 20\n",
            "\t|| 23 \t\t|| Chips                         || 20          \t\t|| 27-08-2021 \t\t || True \t\t || 0\n",
            "\t|| 24 \t\t|| Coffee Powder                 || 56          \t\t|| 24-07-2021 \t\t || True \t\t || 18\n",
            "\t|| 25 \t\t|| Shaving Razor                 || 30          \t\t|| 24-02-2021 \t\t || True \t\t || 0\n",
            "\t|| 26 \t\t|| Choco Spreads                 || 100          \t\t|| 25-08-2021 \t\t || True \t\t || 0\n",
            "\t|| 27 \t\t|| Surf Excel                    || 360          \t\t|| 24-07-2021 \t\t || True \t\t || 0\n",
            "\t|| 28 \t\t|| Detergent                     || 89          \t\t|| 20-08-2021 \t\t || True \t\t || 13\n",
            "\t|| 29 \t\t|| Dairy Milk Silk               || 49          \t\t|| 30-07-2021 \t\t || True \t\t || 15\n",
            "\t|| 30 \t\t|| Mixer Grinder                 || 2500          \t\t|| 24-02-2021 \t\t || True \t\t || 20\n"
          ]
        }
      ]
    },
    {
      "cell_type": "code",
      "metadata": {
        "colab": {
          "base_uri": "https://localhost:8080/"
        },
        "id": "AWszq5k0mR4B",
        "outputId": "7411492e-7136-416d-d664-adaa5383712f"
      },
      "source": [
        "f = open(\"sales.json\",\"a\")\n",
        "will_buy = True\n",
        "print(\"Thank You For Shopping With Us\")\n",
        "while will_buy:\n",
        "  n = int(input(\"Dear Customer, Please Enter Unique Id of the product you want to buy: \"))\n",
        "  q = int(input(\"Dear Customer, Enter the quantity of the product: \"))\n",
        "  daily_count += q\n",
        "  f.write(str(record[n])+\"\\nTotal Price = \"+str(record[n][\"price\"]*q))\n",
        "  print(\"Dear Customer, Press 1 to continue else press any key to quit\")\n",
        "  n = input(\"Dear Customer, Enter your option: \")\n",
        "  will_buy = True if n == '1'  else False\n",
        "\n",
        "f.write(\"\\nProducts saled upto now = \"+str(daily_count)+\"\\n\")\n",
        "f.close()"
      ],
      "execution_count": 23,
      "outputs": [
        {
          "name": "stdout",
          "output_type": "stream",
          "text": [
            "Thank You For Shopping With Us\n",
            "Dear Customer, Please Enter Unique Id of the product you want to buy: 20\n",
            "Dear Customer, Enter the quantity of the product: 3\n",
            "Dear Customer, Press 1 to continue else press any key to quit\n",
            "Dear Customer, Enter your option: r\n"
          ]
        }
      ]
    },
    {
      "cell_type": "code",
      "metadata": {
        "id": "CEigaCkcmvdL"
      },
      "source": [
        "f = open(\"sales.json\",\"r\")\n",
        "text = f.read()\n",
        "f.close()"
      ],
      "execution_count": 24,
      "outputs": []
    },
    {
      "cell_type": "code",
      "metadata": {
        "colab": {
          "base_uri": "https://localhost:8080/",
          "height": 52
        },
        "id": "8ysHgkh6mvUX",
        "outputId": "28e6713a-bc2c-48d5-b56c-4fc237270a31"
      },
      "source": [
        "text"
      ],
      "execution_count": 25,
      "outputs": [
        {
          "output_type": "execute_result",
          "data": {
            "application/vnd.google.colaboratory.intrinsic+json": {
              "type": "string"
            },
            "text/plain": [
              "\"{'item': 'Bodycream', 'price': 320, 'Stocked on': '06-08-2021', 'Availability': True, 'Discount': 15}\\nTotal Price = 960\\nProducts saled upto now = 3\\n{'item': 'Cheese 1kg', 'price': 680, 'Stocked on': '08-04-2021', 'Availability': False, 'Discount': 35}\\nTotal Price = 2040\\nProducts saled upto now = 6\\n\""
            ]
          },
          "metadata": {},
          "execution_count": 25
        }
      ]
    }
  ]
}